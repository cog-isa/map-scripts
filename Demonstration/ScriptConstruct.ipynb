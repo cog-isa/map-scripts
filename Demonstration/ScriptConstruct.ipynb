{
 "cells": [
  {
   "cell_type": "markdown",
   "metadata": {},
   "source": [
    "# Script Constructing"
   ]
  },
  {
   "cell_type": "code",
   "execution_count": 49,
   "metadata": {
    "scrolled": false
   },
   "outputs": [],
   "source": [
    "from ScriptExtract.Preprocessing.TextProcessing import table\n",
    "from ScriptExtract.GraphScript import graph_construction as GrConstr\n",
    "import pickle\n",
    "from ScriptExtract.Preprocessing.TextProcessing import table\n",
    "from mapcore.swm.src.components.semnet import Sign\n",
    "from ScriptExtract.GraphScript.graph_construction import union, get_feature_dict\n",
    "from collections import OrderedDict"
   ]
  },
  {
   "cell_type": "code",
   "execution_count": 50,
   "metadata": {},
   "outputs": [],
   "source": [
    "name_table = 'simple_auto_table.pickle'\n",
    "path = \"../Texts/\"\n",
    "list_files = [path + 'text0_0.txt']\n",
    "table_ = table(use_sem = True).get_table(list_files, test = lambda act: True, name_table = name_table)\n",
    "full_list_actions, verb_dict, feature_dict = get_feature_dict(table_, key_word = 'sem_rel')\n",
    "V = [i for j in table_ for i in j]"
   ]
  },
  {
   "cell_type": "code",
   "execution_count": 51,
   "metadata": {},
   "outputs": [],
   "source": [
    "S = Sign(\"Script\")\n",
    "actions_script_sign = OrderedDict()\n",
    "actions_sign = {}\n",
    "role_sign = {}\n",
    "obj_sign = {}\n",
    "signifs = {}"
   ]
  },
  {
   "cell_type": "code",
   "execution_count": 52,
   "metadata": {},
   "outputs": [],
   "source": [
    "signifs[\"Script\"] = S.add_significance()"
   ]
  },
  {
   "cell_type": "code",
   "execution_count": 53,
   "metadata": {},
   "outputs": [],
   "source": [
    "num_signifs = set()\n",
    "sign_num_act = {}\n",
    "for act in verb_dict:\n",
    "    actions_sign[act] = Sign(act)\n",
    "    new = set(verb_dict[act].keys())\n",
    "    for i in new:\n",
    "        sign_num_act[i] = act\n",
    "    num_signifs = num_signifs.union(new)\n",
    "num_signifs = list(num_signifs)\n",
    "num_signifs.sort(key = lambda x: x[1])"
   ]
  },
  {
   "cell_type": "code",
   "execution_count": 54,
   "metadata": {},
   "outputs": [],
   "source": [
    "for num_act in num_signifs:\n",
    "    name_act = sign_num_act[num_act]\n",
    "    signifs[name_act] = actions_sign[name_act].add_significance()\n",
    "    connector = signifs[name_act].add_feature(signifs[\"Script\"], zero_out=True)\n",
    "    S.add_out_significance(connector)"
   ]
  },
  {
   "cell_type": "code",
   "execution_count": 57,
   "metadata": {},
   "outputs": [],
   "source": [
    "for key in feature_dict:\n",
    "    obj = key\n",
    "    if not obj in obj_sign:\n",
    "        obj_sign[obj] = Sign(obj)\n",
    "    roles = feature_dict[key]\n",
    "    for num_act in roles:\n",
    "        role = roles[num_act]\n",
    "        name_act = sign_num_act[num_act]\n",
    "        \n",
    "        if not role in role_sign:\n",
    "            role_sign[role] = Sign(role)\n",
    "            \n",
    "        signifs[role] = role_sign[role].add_significance()\n",
    "        connector = signifs[role].add_feature(signifs[name_act], zero_out=True)\n",
    "        actions_sign[name_act].add_out_significance(connector)\n",
    "        \n",
    "        signifs[obj] = obj_sign[obj].add_significance()\n",
    "        connector = signifs[obj].add_feature(signifs[role], zero_out=True)\n",
    "        role_sign[role].add_out_significance(connector)        "
   ]
  },
  {
   "cell_type": "code",
   "execution_count": null,
   "metadata": {},
   "outputs": [],
   "source": []
  },
  {
   "cell_type": "code",
   "execution_count": null,
   "metadata": {},
   "outputs": [],
   "source": []
  }
 ],
 "metadata": {
  "anaconda-cloud": {},
  "kernelspec": {
   "display_name": "Python 3",
   "language": "python",
   "name": "python3"
  },
  "language_info": {
   "codemirror_mode": {
    "name": "ipython",
    "version": 3
   },
   "file_extension": ".py",
   "mimetype": "text/x-python",
   "name": "python",
   "nbconvert_exporter": "python",
   "pygments_lexer": "ipython3",
   "version": "3.7.3"
  }
 },
 "nbformat": 4,
 "nbformat_minor": 1
}
